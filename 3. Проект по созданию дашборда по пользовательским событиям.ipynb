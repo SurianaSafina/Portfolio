{
 "cells": [
  {
   "cell_type": "markdown",
   "id": "22eaab48",
   "metadata": {},
   "source": [
    "# Проект: Анализ взаимодействия пользователей с карточками статей Яндекс. Дзен"
   ]
  },
  {
   "cell_type": "markdown",
   "id": "e3aae320",
   "metadata": {},
   "source": [
    "Перед командой аналитиков Дзена поставлена задача по автоматизации анализа пользовательского взаимодействия с карточками статей Яндекс.Дзен и построении дашборда для менеджеров по анализу контента.\n",
    "\n",
    "**Техническое задание:**\n",
    "\n",
    "Бизнес-задача: анализ взаимодействия пользователей с карточками Дзена;\n",
    "\n",
    "Насколько часто предполагается пользоваться дашбордом: не реже, чем раз в неделю;\n",
    "\n",
    "Кто будет основным пользователем дашборда: менеджеры по анализу контента;\n",
    "\n",
    "**Состав данных для дашборда:**\n",
    "\n",
    "История событий по темам карточек (два графика - абсолютные числа и процентное соотношение);\n",
    "\n",
    "Разбивка событий по темам источников;\n",
    "\n",
    "Таблица соответствия тем источников темам карточек;\n",
    "\n",
    "**По каким параметрам данные должны группироваться:**\n",
    "\n",
    "Дата и время;\n",
    "\n",
    "Тема карточки;\n",
    "\n",
    "Тема источника;\n",
    "\n",
    "Возрастная группа;\n",
    "\n",
    "**Характер данных:**\n",
    "\n",
    "История событий по темам карточек — абсолютные величины с разбивкой по минутам;\n",
    "\n",
    "Разбивка событий по темам источников — относительные величины (% событий);\n",
    "\n",
    "Соответствия тем источников темам карточек - абсолютные величины;\n",
    "\n",
    "Важность: все графики имеют равную важность;\n"
   ]
  },
  {
   "cell_type": "markdown",
   "id": "b807e2f5",
   "metadata": {},
   "source": [
    "### Описание данных"
   ]
  },
  {
   "cell_type": "markdown",
   "id": "cba3347e",
   "metadata": {},
   "source": [
    "Источники данных для дашборда: агрегирующая таблица **dash_visits**.\n",
    "**Вот её структура:**\n",
    "\n",
    "record_id — первичный ключ,\n",
    "\n",
    "item_topic — тема карточки,\n",
    "\n",
    "source_topic — тема источника,\n",
    "\n",
    "age_segment — возрастной сегмент,\n",
    "\n",
    "dt — дата и время,\n",
    "\n",
    "visits — количество событий.\n",
    "\n",
    "Таблица хранится в специально подготовленной базе данных zen;\n",
    "\n",
    "Частота обновления данных: один раз в сутки, в полночь по UTC;"
   ]
  },
  {
   "cell_type": "markdown",
   "id": "379e3e54",
   "metadata": {},
   "source": [
    "## Загрузка данных"
   ]
  },
  {
   "cell_type": "markdown",
   "id": "72dbb404",
   "metadata": {},
   "source": [
    "Создадим коннекцию к базе."
   ]
  },
  {
   "cell_type": "code",
   "execution_count": 1,
   "id": "9e127883",
   "metadata": {},
   "outputs": [],
   "source": [
    "# импортируем библиотеки\n",
    "import pandas as pd\n",
    "from sqlalchemy import text, create_engine\n",
    "# устанавливаем параметры\n",
    "db_config = {'user': '***', # имя пользователя\n",
    "            'pwd': '***', # пароль\n",
    "            'host': '***',\n",
    "            'port': ***, # порт подключения\n",
    "            'db': '***'} # название базы данных\n",
    "            \n",
    "connection_string = 'postgresql://{user}:{pwd}@{host}:{port}/{db}'.format(**db_config)\n",
    "# сохраняем коннектор\n",
    "engine = create_engine(connection_string, connect_args={'sslmode':'require'}) "
   ]
  },
  {
   "cell_type": "code",
   "execution_count": 2,
   "id": "bb527393",
   "metadata": {},
   "outputs": [],
   "source": [
    "# формируем sql-запрос.\n",
    "query='''SELECT * FROM dash_visits'''"
   ]
  },
  {
   "cell_type": "code",
   "execution_count": 3,
   "id": "9b62e439",
   "metadata": {},
   "outputs": [],
   "source": [
    "# выполняем запрос и сохраняем результат\n",
    "dash_visits = pd.io.sql.read_sql(query, con = engine)"
   ]
  },
  {
   "cell_type": "code",
   "execution_count": 4,
   "id": "811851a7",
   "metadata": {
    "scrolled": true
   },
   "outputs": [
    {
     "name": "stdout",
     "output_type": "stream",
     "text": [
      "   record_id item_topic source_topic age_segment                  dt  visits\n",
      "0    1040597     Деньги         Авто       18-25 2019-09-24 18:32:00       3\n",
      "1    1040598     Деньги         Авто       18-25 2019-09-24 18:35:00       1\n",
      "2    1040599     Деньги         Авто       18-25 2019-09-24 18:54:00       4\n",
      "3    1040600     Деньги         Авто       18-25 2019-09-24 18:55:00      17\n",
      "4    1040601     Деньги         Авто       18-25 2019-09-24 18:56:00      27\n"
     ]
    }
   ],
   "source": [
    "# выведем на экран первые 5 строк датасета\n",
    "print(dash_visits.head(5))"
   ]
  },
  {
   "cell_type": "code",
   "execution_count": 5,
   "id": "11a752c3",
   "metadata": {
    "scrolled": false
   },
   "outputs": [
    {
     "name": "stdout",
     "output_type": "stream",
     "text": [
      "Выгрузка содержит данные за период с  2019-09-24 18:28:00 по 2019-09-24 19:00:00\n"
     ]
    }
   ],
   "source": [
    "# посмотрим за какой период содержит данные датафрейм\n",
    "# найдем минимальную дату\n",
    "date_min = dash_visits['dt'].min()\n",
    "# найдем максимальную дату\n",
    "date_max = dash_visits['dt'].max()\n",
    "print('Выгрузка содержит данные за период с ',date_min,'по',date_max)"
   ]
  },
  {
   "cell_type": "code",
   "execution_count": 6,
   "id": "bdd5ba45",
   "metadata": {},
   "outputs": [
    {
     "data": {
      "text/html": [
       "<div>\n",
       "<style scoped>\n",
       "    .dataframe tbody tr th:only-of-type {\n",
       "        vertical-align: middle;\n",
       "    }\n",
       "\n",
       "    .dataframe tbody tr th {\n",
       "        vertical-align: top;\n",
       "    }\n",
       "\n",
       "    .dataframe thead th {\n",
       "        text-align: right;\n",
       "    }\n",
       "</style>\n",
       "<table border=\"1\" class=\"dataframe\">\n",
       "  <thead>\n",
       "    <tr style=\"text-align: right;\">\n",
       "      <th></th>\n",
       "      <th>record_id</th>\n",
       "      <th>item_topic</th>\n",
       "      <th>source_topic</th>\n",
       "      <th>age_segment</th>\n",
       "      <th>dt</th>\n",
       "      <th>visits</th>\n",
       "    </tr>\n",
       "  </thead>\n",
       "  <tbody>\n",
       "  </tbody>\n",
       "</table>\n",
       "</div>"
      ],
      "text/plain": [
       "Empty DataFrame\n",
       "Columns: [record_id, item_topic, source_topic, age_segment, dt, visits]\n",
       "Index: []"
      ]
     },
     "execution_count": 6,
     "metadata": {},
     "output_type": "execute_result"
    }
   ],
   "source": [
    "# проверим есть ли строки с нулевым количеством визитов\n",
    "dash_visits[dash_visits['visits'] == 0]"
   ]
  },
  {
   "cell_type": "code",
   "execution_count": 7,
   "id": "a5d6325d",
   "metadata": {},
   "outputs": [],
   "source": [
    "# выгрузим данные из таблицы dash_visits в файл dash_visits.csv\n",
    "dash_visits.to_csv('dash_visits.csv',index=False)\n",
    "dash_visits.to_excel('dash_visits2.xlsx',index=False)"
   ]
  }
 ],
 "metadata": {
  "kernelspec": {
   "display_name": "Python 3 (ipykernel)",
   "language": "python",
   "name": "python3"
  },
  "language_info": {
   "codemirror_mode": {
    "name": "ipython",
    "version": 3
   },
   "file_extension": ".py",
   "mimetype": "text/x-python",
   "name": "python",
   "nbconvert_exporter": "python",
   "pygments_lexer": "ipython3",
   "version": "3.9.13"
  }
 },
 "nbformat": 4,
 "nbformat_minor": 5
}
